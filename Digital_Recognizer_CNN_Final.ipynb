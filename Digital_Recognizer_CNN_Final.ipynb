{
 "cells": [
  {
   "cell_type": "markdown",
   "metadata": {},
   "source": [
    "\n",
    "# CNN convolutional Neural Netwrok \n",
    "### Image Recognition Problem \n",
    "\n",
    "### GW MSBA Summer Machine Learning Course Final Project \n",
    "\n",
    "By Di Niu, Yi Yang\n"
   ]
  },
  {
   "cell_type": "markdown",
   "metadata": {},
   "source": [
    "In this competition, the goal is to correctly identify digits from a dataset of tens of thousands of handwritten images. In other words, the goal in this competition is to take an image of a handwritten single digit, and determine what that digit is. For every ImageId in the test set, I am expected to predict the correct label.\n",
    "\n",
    "Came across the kernels that are posted on Kaggle, I happen to notice that convolutional Neural Network (CNN) is a useful neural network to solve MNIST.  The package used for CNN is called Keras in Python. Keras is a Python library for deep learning that wraps the efficient numerical libraries Theano and TensorFlow.\n",
    "\n",
    "References:\n",
    "https://www.kaggle.com/toregil/welcome-to-deep-learning-cnn-99\n",
    "\n",
    "\n",
    "http://machinelearningmastery.com/object-recognition-convolutional-neural-networks-keras-deep-learning-library/\n",
    "\n"
   ]
  },
  {
   "cell_type": "markdown",
   "metadata": {},
   "source": [
    "# Import necessary packages and load the kaggle data"
   ]
  },
  {
   "cell_type": "code",
   "execution_count": 1,
   "metadata": {
    "collapsed": true
   },
   "outputs": [],
   "source": [
    "import numpy as np # linear algebra\n",
    "import matplotlib.pyplot as plt\n",
    "%matplotlib inline\n",
    "from sklearn.model_selection import train_test_split\n",
    "from sklearn.metrics import confusion_matrix"
   ]
  },
  {
   "cell_type": "code",
   "execution_count": 3,
   "metadata": {
    "collapsed": false
   },
   "outputs": [
    {
     "name": "stderr",
     "output_type": "stream",
     "text": [
      "Using TensorFlow backend.\n"
     ]
    }
   ],
   "source": [
    "from keras.utils.np_utils import to_categorical # convert to one-hot-encoding\n",
    "from keras.models import Sequential\n",
    "from keras.layers import Dense, Dropout, Flatten, Conv2D, MaxPool2D, BatchNormalization\n",
    "from keras.optimizers import Adam\n",
    "from keras.preprocessing.image import ImageDataGenerator\n",
    "from keras.callbacks import LearningRateScheduler"
   ]
  },
  {
   "cell_type": "code",
   "execution_count": 4,
   "metadata": {
    "collapsed": true
   },
   "outputs": [],
   "source": [
    "train_file = \"/Users/diniu/Desktop/Machine learning/Dtrain.csv\"\n",
    "test_file = \"/Users/diniu/Desktop/Machine learning/Dtest.csv\"\n",
    "output_file = \"submission.csv\""
   ]
  },
  {
   "cell_type": "code",
   "execution_count": 5,
   "metadata": {
    "collapsed": true
   },
   "outputs": [],
   "source": [
    "raw_data = np.loadtxt(train_file, skiprows=1, dtype='int', delimiter=',')\n",
    "x_train, x_val, y_train, y_val = train_test_split(\n",
    "    raw_data[:,1:], raw_data[:,0], test_size=0.1)"
   ]
  },
  {
   "cell_type": "markdown",
   "metadata": {},
   "source": [
    "For the 28×28 pixel images we've been using, this means our network has 784(=28×28) input neurons. In other words, each data point is consist of 784 values. \n",
    "\n",
    "The below, two graph comparasion is inspired by XXXX, he wrote a code that clearly present why CNN giving a better results. This visualization shows the difference. CNN has 784 input neurons. \n",
    "\n",
    "\n",
    "\n",
    "We then trained the network's weights and biases so that the network's output would correctly identify the input image: '0', '1', '2', ..., '8', or '9'."
   ]
  },
  {
   "cell_type": "code",
   "execution_count": 6,
   "metadata": {
    "collapsed": false
   },
   "outputs": [
    {
     "data": {
      "text/plain": [
       "<matplotlib.text.Text at 0x164379c88>"
      ]
     },
     "execution_count": 6,
     "metadata": {},
     "output_type": "execute_result"
    },
    {
     "data": {
      "image/png": "[encoded data removed]",
      "text/plain": [
       "<matplotlib.figure.Figure at 0x12277f630>"
      ]
     },
     "metadata": {},
     "output_type": "display_data"
    }
   ],
   "source": [
    "fig, ax = plt.subplots(2, 1, figsize=(12,6))\n",
    "ax[0].plot(x_train[0])\n",
    "ax[0].set_title('784x1 data')\n",
    "ax[1].imshow(x_train[0].reshape(28,28), cmap='gray')\n",
    "ax[1].set_title('28x28 data')"
   ]
  },
  {
   "cell_type": "markdown",
   "metadata": {},
   "source": [
    "In Keras the Convolution layer requirest an additional dimension which will be used for the various filter.\n",
    "\n",
    "When we have eg. 2D dataset the shape is (data_points, rows, cols).\n",
    "\n",
    "Convolution2D requires shape (data_points, rows, cols, 1).\n",
    "\n",
    "Otherwise it fails with eg. \"Exception: Input 0 is incompatible with layer convolution2d_5: expected ndim=4, found ndim=3\"\n",
    "\n",
    "thus the below command is used to reshape"
   ]
  },
  {
   "cell_type": "code",
   "execution_count": 7,
   "metadata": {
    "collapsed": true
   },
   "outputs": [],
   "source": [
    "x_train = x_train.reshape(-1, 28, 28, 1)\n",
    "x_val = x_val.reshape(-1, 28, 28, 1)"
   ]
  },
  {
   "cell_type": "code",
   "execution_count": 8,
   "metadata": {
    "collapsed": true
   },
   "outputs": [],
   "source": [
    "x_train = x_train.astype(\"float32\")/255.\n",
    "x_val = x_val.astype(\"float32\")/255."
   ]
  },
  {
   "cell_type": "markdown",
   "metadata": {},
   "source": [
    "We then trained the network's weights and biases so that the network's output would correctly identify the input image: '0', '1', '2', ..., '8', or '9'."
   ]
  },
  {
   "cell_type": "code",
   "execution_count": 9,
   "metadata": {
    "collapsed": false
   },
   "outputs": [
    {
     "name": "stdout",
     "output_type": "stream",
     "text": [
      "[ 0.  0.  1.  0.  0.  0.  0.  0.  0.  0.]\n"
     ]
    }
   ],
   "source": [
    "y_train = to_categorical(y_train)\n",
    "y_val = to_categorical(y_val)\n",
    "print(y_train[0])"
   ]
  },
  {
   "cell_type": "markdown",
   "metadata": {},
   "source": [
    "# Training\n",
    "\n",
    "CNN uses a bunch of filters. A Convolutional Neural Network (CNN) is comprised of one or more convolutional layers (often with a subsampling step) and then followed by one or more fully connected layers as in a standard multilayer neural network. The architecture of a CNN is designed to take advantage of the 2D structure of an input image (or other 2D input such as a speech signal).\n"
   ]
  },
  {
   "cell_type": "code",
   "execution_count": 10,
   "metadata": {
    "collapsed": true
   },
   "outputs": [],
   "source": [
    "#Here is a mixture of the filters \n",
    "model = Sequential()\n",
    "#RELU is just a non linearity which is applied similar to neural networks.\n",
    "\n",
    "#Convolutional input layer, 16 feature maps with a size of 3×3 and a rectifier activation function.\n",
    "model.add(Conv2D(filters = 16, kernel_size = (3, 3), activation='relu',\n",
    "                 input_shape = (28, 28, 1)))\n",
    "\n",
    "model.add(BatchNormalization())\n",
    "model.add(Conv2D(filters = 16, kernel_size = (3, 3), activation='relu'))\n",
    "model.add(BatchNormalization())\n",
    "\n",
    "#Max Pool layer with size 2×2.\n",
    "model.add(MaxPool2D(strides=(2,2)))\n",
    "model.add(Dropout(0.25))\n",
    "\n",
    "model.add(Conv2D(filters = 32, kernel_size = (3, 3), activation='relu'))\n",
    "model.add(BatchNormalization())\n",
    "model.add(Conv2D(filters = 32, kernel_size = (3, 3), activation='relu'))\n",
    "model.add(BatchNormalization())\n",
    "\n",
    "model.add(MaxPool2D(strides=(2,2)))\n",
    "model.add(Dropout(0.25))\n",
    "\n",
    "# Dense(512) is a fully-connected layer with 512 hidden units.\n",
    "# To reduce overfitting, we will apply dropout before the readout layer. \n",
    "# Fully connected output layer with 10 units and a softmax activation function.\n",
    "model.add(Flatten())\n",
    "model.add(Dense(512, activation='relu'))\n",
    "model.add(Dropout(0.25))\n",
    "model.add(Dense(1024, activation='relu'))\n",
    "model.add(Dropout(0.5))\n",
    "model.add(Dense(10, activation='softmax'))"
   ]
  },
  {
   "cell_type": "code",
   "execution_count": 11,
   "metadata": {
    "collapsed": true
   },
   "outputs": [],
   "source": [
    "datagen = ImageDataGenerator(zoom_range = 0.1,\n",
    "                            height_shift_range = 0.1,\n",
    "                            width_shift_range = 0.1,\n",
    "                            rotation_range = 10)"
   ]
  },
  {
   "cell_type": "code",
   "execution_count": 12,
   "metadata": {
    "collapsed": true
   },
   "outputs": [],
   "source": [
    "model.compile(loss='categorical_crossentropy', optimizer = Adam(lr=1e-4), metrics=[\"accuracy\"])"
   ]
  },
  {
   "cell_type": "code",
   "execution_count": 13,
   "metadata": {
    "collapsed": true
   },
   "outputs": [],
   "source": [
    "annealer = LearningRateScheduler(lambda x: 1e-3 * 0.9 ** x)"
   ]
  },
  {
   "cell_type": "markdown",
   "metadata": {},
   "source": [
    "## Here, the Neural Network parameters can be fixed to determine your best fit\n",
    "\n",
    "Thus, we used steps_per_epoch=700, epochs=50, \n",
    "\n",
    "The parameter steps_per_epoch determines how many times the generator datagen.flow is called in one epoch. I have tried to tune the paramter in different combination, in order to further improve the accurancy.\n",
    "\n",
    "The best parameters seems to be this combination where steps_per_epoch=700, epochs =50. In other words, in one epoch, the data is called 700 times. So in total, the training samples in an epoch is 700*16, which is 11200. And we have 50 epochs.\n"
   ]
  },
  {
   "cell_type": "code",
   "execution_count": 14,
   "metadata": {
    "collapsed": false
   },
   "outputs": [
    {
     "name": "stdout",
     "output_type": "stream",
     "text": [
      "Epoch 1/50\n",
      "43s - loss: 0.8324 - acc: 0.7301 - val_loss: 0.1789 - val_acc: 0.9475\n",
      "Epoch 2/50\n",
      "41s - loss: 0.3395 - acc: 0.8982 - val_loss: 0.0766 - val_acc: 0.9775\n",
      "Epoch 3/50\n",
      "41s - loss: 0.2591 - acc: 0.9249 - val_loss: 0.0574 - val_acc: 0.9825\n",
      "Epoch 4/50\n",
      "41s - loss: 0.2091 - acc: 0.9373 - val_loss: 0.0555 - val_acc: 0.9825\n",
      "Epoch 5/50\n",
      "41s - loss: 0.1777 - acc: 0.9460 - val_loss: 0.0508 - val_acc: 0.9850\n",
      "Epoch 6/50\n",
      "41s - loss: 0.1659 - acc: 0.9517 - val_loss: 0.0404 - val_acc: 0.9875\n",
      "Epoch 7/50\n",
      "41s - loss: 0.1555 - acc: 0.9534 - val_loss: 0.0220 - val_acc: 0.9925\n",
      "Epoch 8/50\n",
      "42s - loss: 0.1401 - acc: 0.9604 - val_loss: 0.0228 - val_acc: 0.9925\n",
      "Epoch 9/50\n",
      "41s - loss: 0.1272 - acc: 0.9634 - val_loss: 0.0174 - val_acc: 0.9950\n",
      "Epoch 10/50\n",
      "41s - loss: 0.1207 - acc: 0.9665 - val_loss: 0.0160 - val_acc: 0.9925\n",
      "Epoch 11/50\n",
      "41s - loss: 0.1106 - acc: 0.9688 - val_loss: 0.0227 - val_acc: 0.9900\n",
      "Epoch 12/50\n",
      "41s - loss: 0.0947 - acc: 0.9722 - val_loss: 0.0156 - val_acc: 0.9925\n",
      "Epoch 13/50\n",
      "41s - loss: 0.1029 - acc: 0.9710 - val_loss: 0.0092 - val_acc: 0.9975\n",
      "Epoch 14/50\n",
      "41s - loss: 0.1003 - acc: 0.9703 - val_loss: 0.0086 - val_acc: 0.9975\n",
      "Epoch 15/50\n",
      "42s - loss: 0.0790 - acc: 0.9757 - val_loss: 0.0112 - val_acc: 0.9950\n",
      "Epoch 16/50\n",
      "41s - loss: 0.0916 - acc: 0.9736 - val_loss: 0.0112 - val_acc: 0.9950\n",
      "Epoch 17/50\n",
      "41s - loss: 0.0896 - acc: 0.9736 - val_loss: 0.0138 - val_acc: 0.9925\n",
      "Epoch 18/50\n",
      "41s - loss: 0.0834 - acc: 0.9751 - val_loss: 0.0151 - val_acc: 0.9950\n",
      "Epoch 19/50\n",
      "40s - loss: 0.0822 - acc: 0.9763 - val_loss: 0.0111 - val_acc: 0.9950\n",
      "Epoch 20/50\n",
      "40s - loss: 0.0652 - acc: 0.9803 - val_loss: 0.0081 - val_acc: 0.9975\n",
      "Epoch 21/50\n",
      "41s - loss: 0.0779 - acc: 0.9778 - val_loss: 0.0139 - val_acc: 0.9925\n",
      "Epoch 22/50\n",
      "41s - loss: 0.0749 - acc: 0.9780 - val_loss: 0.0084 - val_acc: 0.9975\n",
      "Epoch 23/50\n",
      "42s - loss: 0.0721 - acc: 0.9800 - val_loss: 0.0097 - val_acc: 0.9975\n",
      "Epoch 24/50\n",
      "41s - loss: 0.0758 - acc: 0.9792 - val_loss: 0.0091 - val_acc: 0.9950\n",
      "Epoch 25/50\n",
      "43s - loss: 0.0691 - acc: 0.9803 - val_loss: 0.0071 - val_acc: 0.9975\n",
      "Epoch 26/50\n",
      "2176s - loss: 0.0696 - acc: 0.9801 - val_loss: 0.0068 - val_acc: 0.9975\n",
      "Epoch 27/50\n",
      "42s - loss: 0.0668 - acc: 0.9815 - val_loss: 0.0060 - val_acc: 0.9975\n",
      "Epoch 28/50\n",
      "41s - loss: 0.0656 - acc: 0.9792 - val_loss: 0.0067 - val_acc: 1.0000\n",
      "Epoch 29/50\n",
      "41s - loss: 0.0603 - acc: 0.9823 - val_loss: 0.0067 - val_acc: 1.0000\n",
      "Epoch 30/50\n",
      "42s - loss: 0.0581 - acc: 0.9825 - val_loss: 0.0074 - val_acc: 0.9975\n",
      "Epoch 31/50\n",
      "45s - loss: 0.0687 - acc: 0.9784 - val_loss: 0.0081 - val_acc: 0.9975\n",
      "Epoch 32/50\n",
      "55s - loss: 0.0547 - acc: 0.9840 - val_loss: 0.0071 - val_acc: 0.9975\n",
      "Epoch 33/50\n",
      "51s - loss: 0.0668 - acc: 0.9800 - val_loss: 0.0070 - val_acc: 1.0000\n",
      "Epoch 34/50\n",
      "51s - loss: 0.0498 - acc: 0.9841 - val_loss: 0.0072 - val_acc: 0.9975\n",
      "Epoch 35/50\n",
      "48s - loss: 0.0581 - acc: 0.9822 - val_loss: 0.0062 - val_acc: 1.0000\n",
      "Epoch 36/50\n",
      "54s - loss: 0.0600 - acc: 0.9832 - val_loss: 0.0078 - val_acc: 0.9950\n",
      "Epoch 37/50\n",
      "50s - loss: 0.0569 - acc: 0.9811 - val_loss: 0.0079 - val_acc: 0.9975\n",
      "Epoch 38/50\n",
      "54s - loss: 0.0584 - acc: 0.9828 - val_loss: 0.0071 - val_acc: 0.9975\n",
      "Epoch 39/50\n",
      "48s - loss: 0.0529 - acc: 0.9849 - val_loss: 0.0069 - val_acc: 1.0000\n",
      "Epoch 40/50\n",
      "50s - loss: 0.0575 - acc: 0.9834 - val_loss: 0.0072 - val_acc: 0.9975\n",
      "Epoch 41/50\n",
      "45s - loss: 0.0566 - acc: 0.9837 - val_loss: 0.0067 - val_acc: 0.9975\n",
      "Epoch 42/50\n",
      "45s - loss: 0.0500 - acc: 0.9850 - val_loss: 0.0066 - val_acc: 1.0000\n",
      "Epoch 43/50\n",
      "44s - loss: 0.0571 - acc: 0.9824 - val_loss: 0.0063 - val_acc: 1.0000\n",
      "Epoch 44/50\n",
      "46s - loss: 0.0622 - acc: 0.9817 - val_loss: 0.0060 - val_acc: 1.0000\n",
      "Epoch 45/50\n",
      "47s - loss: 0.0559 - acc: 0.9833 - val_loss: 0.0058 - val_acc: 1.0000\n",
      "Epoch 46/50\n",
      "41s - loss: 0.0535 - acc: 0.9843 - val_loss: 0.0062 - val_acc: 1.0000\n",
      "Epoch 47/50\n",
      "44s - loss: 0.0532 - acc: 0.9842 - val_loss: 0.0064 - val_acc: 1.0000\n",
      "Epoch 48/50\n",
      "67s - loss: 0.0557 - acc: 0.9837 - val_loss: 0.0065 - val_acc: 1.0000\n",
      "Epoch 49/50\n",
      "49s - loss: 0.0630 - acc: 0.9821 - val_loss: 0.0064 - val_acc: 1.0000\n",
      "Epoch 50/50\n",
      "50s - loss: 0.0572 - acc: 0.9819 - val_loss: 0.0062 - val_acc: 0.9975\n"
     ]
    }
   ],
   "source": [
    "hist = model.fit_generator(datagen.flow(x_train, y_train, batch_size=16),\n",
    "                           steps_per_epoch=700,\n",
    "                           epochs=50, \n",
    "                           verbose=2,  #1 for ETA, 0 for silent\n",
    "                           validation_data=(x_val[:400,:], y_val[:400,:]), \n",
    "                           callbacks=[annealer])"
   ]
  },
  {
   "cell_type": "markdown",
   "metadata": {},
   "source": [
    "# Other way to improve the model performance:\n",
    "\n",
    "### 1. Train for More Epochs. \n",
    "\n",
    "### 2. Image Data Augmentation. \n",
    "\n",
    "### 3. Deeper Network Topology. \n"
   ]
  },
  {
   "cell_type": "markdown",
   "metadata": {},
   "source": [
    "# Evaluate the Model\n",
    "Now try on the entire validation dataset"
   ]
  },
  {
   "cell_type": "code",
   "execution_count": 15,
   "metadata": {
    "collapsed": false
   },
   "outputs": [
    {
     "name": "stdout",
     "output_type": "stream",
     "text": [
      "Final loss: 0.0124, final accuracy: 0.9962\n"
     ]
    }
   ],
   "source": [
    "final_loss, final_acc = model.evaluate(x_val, y_val, verbose=0)\n",
    "print(\"Final loss: {0:.4f}, final accuracy: {1:.4f}\".format(final_loss, final_acc))"
   ]
  },
  {
   "cell_type": "markdown",
   "metadata": {},
   "source": [
    "A visualization is made to show the test and training final loss and final accuracy. "
   ]
  },
  {
   "cell_type": "code",
   "execution_count": 16,
   "metadata": {
    "collapsed": false
   },
   "outputs": [
    {
     "data": {
      "image/png": "[encoded data removed]",
      "text/plain": [
       "<matplotlib.figure.Figure at 0x12a2e92e8>"
      ]
     },
     "metadata": {},
     "output_type": "display_data"
    },
    {
     "data": {
      "image/png": "[encoded data removed]",
      "text/plain": [
       "<matplotlib.figure.Figure at 0x12a891e48>"
      ]
     },
     "metadata": {},
     "output_type": "display_data"
    }
   ],
   "source": [
    "plt.plot(hist.history['loss'], color='b')\n",
    "plt.plot(hist.history['val_loss'], color='r')\n",
    "plt.show()\n",
    "plt.plot(hist.history['acc'], color='b')\n",
    "plt.plot(hist.history['val_acc'], color='r')\n",
    "plt.show()"
   ]
  },
  {
   "cell_type": "code",
   "execution_count": 17,
   "metadata": {
    "collapsed": false
   },
   "outputs": [
    {
     "name": "stdout",
     "output_type": "stream",
     "text": [
      "[[413   0   0   0   0   0   0   0   0   0]\n",
      " [  0 469   0   0   0   0   1   0   0   0]\n",
      " [  0   1 420   0   0   0   0   3   0   0]\n",
      " [  0   0   0 430   0   0   0   0   2   0]\n",
      " [  0   0   0   0 407   0   0   0   0   0]\n",
      " [  0   0   0   0   0 364   2   0   0   0]\n",
      " [  0   0   0   0   1   0 405   0   0   0]\n",
      " [  0   1   1   0   0   0   0 444   0   0]\n",
      " [  0   0   0   0   0   0   0   0 394   0]\n",
      " [  1   0   1   0   1   1   0   0   0 438]]\n"
     ]
    }
   ],
   "source": [
    "y_hat = model.predict(x_val)\n",
    "y_pred = np.argmax(y_hat, axis=1)\n",
    "y_true = np.argmax(y_val, axis=1)\n",
    "cm = confusion_matrix(y_true, y_pred)\n",
    "print(cm)"
   ]
  },
  {
   "cell_type": "markdown",
   "metadata": {},
   "source": [
    "our final loss is 0.0124, final accuracy is 0.9962"
   ]
  },
  {
   "cell_type": "markdown",
   "metadata": {},
   "source": [
    "# Output"
   ]
  },
  {
   "cell_type": "code",
   "execution_count": 18,
   "metadata": {
    "collapsed": true
   },
   "outputs": [],
   "source": [
    "mnist_testset = np.loadtxt(test_file, skiprows=1, dtype='int', delimiter=',')\n",
    "x_test = mnist_testset.astype(\"float32\")\n",
    "x_test = x_test.reshape(-1, 28, 28, 1)/255."
   ]
  },
  {
   "cell_type": "code",
   "execution_count": 19,
   "metadata": {
    "collapsed": true
   },
   "outputs": [],
   "source": [
    "y_hat = model.predict(x_test, batch_size=64)"
   ]
  },
  {
   "cell_type": "code",
   "execution_count": 20,
   "metadata": {
    "collapsed": true
   },
   "outputs": [],
   "source": [
    "y_pred = np.argmax(y_hat,axis=1)"
   ]
  },
  {
   "cell_type": "code",
   "execution_count": 21,
   "metadata": {
    "collapsed": true
   },
   "outputs": [],
   "source": [
    "with open(output_file, 'w') as f :\n",
    "    f.write('ImageId,Label\\n')\n",
    "    for i in range(len(y_pred)) :\n",
    "        f.write(\"\".join([str(i+1),',',str(y_pred[i]),'\\n']))"
   ]
  },
  {
   "cell_type": "markdown",
   "metadata": {
    "collapsed": true
   },
   "source": [
    "## Reflection:\n",
    "\n",
    "MNIST is where everyone in machine learning starts. This digital recognizer is a perfect introduction to techniques like neural networks. There are many techniques are recommended as I went through the discussion board, such as SVM, simple deep MLP, Deep neural network and CNN\n",
    "\n",
    "We choose CNN because it is a effective tool to deal with MNIST problem. A convolutional neural network (CNN) aims to address this problem by using a more structured weight representation. Instead of flattening the image and doing a simple matrix-matrix multiplication, it employs one or more convolutional layers that each performs a 2-D convolution on the input image.\n",
    "\n",
    "We really learnt a lot about CNN and dimension reduction (although it is not covered in this Python notebook.) after doing this contest.  We enjoyed the process of learning the code and improving the model performance. :)\n"
   ]
  }
 ],
 "metadata": {
  "kernelspec": {
   "display_name": "Python [Root]",
   "language": "python",
   "name": "Python [Root]"
  },
  "language_info": {
   "codemirror_mode": {
    "name": "ipython",
    "version": 3
   },
   "file_extension": ".py",
   "mimetype": "text/x-python",
   "name": "python",
   "nbconvert_exporter": "python",
   "pygments_lexer": "ipython3",
   "version": "3.5.2"
  }
 },
 "nbformat": 4,
 "nbformat_minor": 2
}
